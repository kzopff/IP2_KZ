{
 "cells": [
  {
   "cell_type": "markdown",
   "metadata": {},
   "source": [
    "# Individual Project 2\n",
    "\n",
    "**Author:** Katie Zopff  \n",
    "**Version:** 1.0  \n",
    "**Semester:** Spring 2021  \n",
    "**Summary:** In this notebook, I read a csv file and edit and format it in in different ways to demonstrate the different features/functions of Pandas. "
   ]
  },
  {
   "cell_type": "code",
   "execution_count": 1,
   "metadata": {},
   "outputs": [],
   "source": [
    "import pandas as pd\n",
    "import numpy as np\n",
    "import matplotlib.pyplot as plt\n",
    "import seaborn as sns\n",
    "%matplotlib inline\n",
    "\n",
    "import scipy.stats as stats"
   ]
  },
  {
   "cell_type": "markdown",
   "metadata": {},
   "source": [
    "**1.)** To read the data file into a dataset:"
   ]
  },
  {
   "cell_type": "code",
   "execution_count": 2,
   "metadata": {},
   "outputs": [],
   "source": [
    "df = pd.read_csv('weather_2012.csv')"
   ]
  },
  {
   "cell_type": "markdown",
   "metadata": {},
   "source": [
    "**2.)** Using the head, tail, and sample functions to display the first five, last five, and a random sample of five rows from the dataset"
   ]
  },
  {
   "cell_type": "code",
   "execution_count": 3,
   "metadata": {},
   "outputs": [
    {
     "data": {
      "text/html": [
       "<div>\n",
       "<style scoped>\n",
       "    .dataframe tbody tr th:only-of-type {\n",
       "        vertical-align: middle;\n",
       "    }\n",
       "\n",
       "    .dataframe tbody tr th {\n",
       "        vertical-align: top;\n",
       "    }\n",
       "\n",
       "    .dataframe thead th {\n",
       "        text-align: right;\n",
       "    }\n",
       "</style>\n",
       "<table border=\"1\" class=\"dataframe\">\n",
       "  <thead>\n",
       "    <tr style=\"text-align: right;\">\n",
       "      <th></th>\n",
       "      <th>Date/Time</th>\n",
       "      <th>Temp (C)</th>\n",
       "      <th>Dew Point Temp (C)</th>\n",
       "      <th>Rel Hum (%)</th>\n",
       "      <th>Wind Spd (km/h)</th>\n",
       "      <th>Visibility (km)</th>\n",
       "      <th>Stn Press (kPa)</th>\n",
       "      <th>Weather</th>\n",
       "    </tr>\n",
       "  </thead>\n",
       "  <tbody>\n",
       "    <tr>\n",
       "      <th>0</th>\n",
       "      <td>1/1/2012 0:00</td>\n",
       "      <td>-1.8</td>\n",
       "      <td>-3.9</td>\n",
       "      <td>86</td>\n",
       "      <td>4</td>\n",
       "      <td>8.0</td>\n",
       "      <td>101.24</td>\n",
       "      <td>Fog</td>\n",
       "    </tr>\n",
       "    <tr>\n",
       "      <th>1</th>\n",
       "      <td>1/1/2012 1:00</td>\n",
       "      <td>-1.8</td>\n",
       "      <td>-3.7</td>\n",
       "      <td>87</td>\n",
       "      <td>4</td>\n",
       "      <td>8.0</td>\n",
       "      <td>101.24</td>\n",
       "      <td>Fog</td>\n",
       "    </tr>\n",
       "    <tr>\n",
       "      <th>2</th>\n",
       "      <td>1/1/2012 2:00</td>\n",
       "      <td>-1.8</td>\n",
       "      <td>-3.4</td>\n",
       "      <td>89</td>\n",
       "      <td>7</td>\n",
       "      <td>4.0</td>\n",
       "      <td>101.26</td>\n",
       "      <td>Freezing Drizzle,Fog</td>\n",
       "    </tr>\n",
       "    <tr>\n",
       "      <th>3</th>\n",
       "      <td>1/1/2012 3:00</td>\n",
       "      <td>-1.5</td>\n",
       "      <td>-3.2</td>\n",
       "      <td>88</td>\n",
       "      <td>6</td>\n",
       "      <td>4.0</td>\n",
       "      <td>101.27</td>\n",
       "      <td>Freezing Drizzle,Fog</td>\n",
       "    </tr>\n",
       "    <tr>\n",
       "      <th>4</th>\n",
       "      <td>1/1/2012 4:00</td>\n",
       "      <td>-1.5</td>\n",
       "      <td>-3.3</td>\n",
       "      <td>88</td>\n",
       "      <td>7</td>\n",
       "      <td>4.8</td>\n",
       "      <td>101.23</td>\n",
       "      <td>Fog</td>\n",
       "    </tr>\n",
       "  </tbody>\n",
       "</table>\n",
       "</div>"
      ],
      "text/plain": [
       "       Date/Time  Temp (C)  Dew Point Temp (C)  Rel Hum (%)  Wind Spd (km/h)  \\\n",
       "0  1/1/2012 0:00      -1.8                -3.9           86                4   \n",
       "1  1/1/2012 1:00      -1.8                -3.7           87                4   \n",
       "2  1/1/2012 2:00      -1.8                -3.4           89                7   \n",
       "3  1/1/2012 3:00      -1.5                -3.2           88                6   \n",
       "4  1/1/2012 4:00      -1.5                -3.3           88                7   \n",
       "\n",
       "   Visibility (km)  Stn Press (kPa)               Weather  \n",
       "0              8.0           101.24                   Fog  \n",
       "1              8.0           101.24                   Fog  \n",
       "2              4.0           101.26  Freezing Drizzle,Fog  \n",
       "3              4.0           101.27  Freezing Drizzle,Fog  \n",
       "4              4.8           101.23                   Fog  "
      ]
     },
     "execution_count": 3,
     "metadata": {},
     "output_type": "execute_result"
    }
   ],
   "source": [
    "df.head()"
   ]
  },
  {
   "cell_type": "code",
   "execution_count": 4,
   "metadata": {},
   "outputs": [
    {
     "data": {
      "text/html": [
       "<div>\n",
       "<style scoped>\n",
       "    .dataframe tbody tr th:only-of-type {\n",
       "        vertical-align: middle;\n",
       "    }\n",
       "\n",
       "    .dataframe tbody tr th {\n",
       "        vertical-align: top;\n",
       "    }\n",
       "\n",
       "    .dataframe thead th {\n",
       "        text-align: right;\n",
       "    }\n",
       "</style>\n",
       "<table border=\"1\" class=\"dataframe\">\n",
       "  <thead>\n",
       "    <tr style=\"text-align: right;\">\n",
       "      <th></th>\n",
       "      <th>Date/Time</th>\n",
       "      <th>Temp (C)</th>\n",
       "      <th>Dew Point Temp (C)</th>\n",
       "      <th>Rel Hum (%)</th>\n",
       "      <th>Wind Spd (km/h)</th>\n",
       "      <th>Visibility (km)</th>\n",
       "      <th>Stn Press (kPa)</th>\n",
       "      <th>Weather</th>\n",
       "    </tr>\n",
       "  </thead>\n",
       "  <tbody>\n",
       "    <tr>\n",
       "      <th>8779</th>\n",
       "      <td>12/31/2012 19:00</td>\n",
       "      <td>0.1</td>\n",
       "      <td>-2.7</td>\n",
       "      <td>81</td>\n",
       "      <td>30</td>\n",
       "      <td>9.7</td>\n",
       "      <td>100.13</td>\n",
       "      <td>Snow</td>\n",
       "    </tr>\n",
       "    <tr>\n",
       "      <th>8780</th>\n",
       "      <td>12/31/2012 20:00</td>\n",
       "      <td>0.2</td>\n",
       "      <td>-2.4</td>\n",
       "      <td>83</td>\n",
       "      <td>24</td>\n",
       "      <td>9.7</td>\n",
       "      <td>100.03</td>\n",
       "      <td>Snow</td>\n",
       "    </tr>\n",
       "    <tr>\n",
       "      <th>8781</th>\n",
       "      <td>12/31/2012 21:00</td>\n",
       "      <td>-0.5</td>\n",
       "      <td>-1.5</td>\n",
       "      <td>93</td>\n",
       "      <td>28</td>\n",
       "      <td>4.8</td>\n",
       "      <td>99.95</td>\n",
       "      <td>Snow</td>\n",
       "    </tr>\n",
       "    <tr>\n",
       "      <th>8782</th>\n",
       "      <td>12/31/2012 22:00</td>\n",
       "      <td>-0.2</td>\n",
       "      <td>-1.8</td>\n",
       "      <td>89</td>\n",
       "      <td>28</td>\n",
       "      <td>9.7</td>\n",
       "      <td>99.91</td>\n",
       "      <td>Snow</td>\n",
       "    </tr>\n",
       "    <tr>\n",
       "      <th>8783</th>\n",
       "      <td>12/31/2012 23:00</td>\n",
       "      <td>0.0</td>\n",
       "      <td>-2.1</td>\n",
       "      <td>86</td>\n",
       "      <td>30</td>\n",
       "      <td>11.3</td>\n",
       "      <td>99.89</td>\n",
       "      <td>Snow</td>\n",
       "    </tr>\n",
       "  </tbody>\n",
       "</table>\n",
       "</div>"
      ],
      "text/plain": [
       "             Date/Time  Temp (C)  Dew Point Temp (C)  Rel Hum (%)  \\\n",
       "8779  12/31/2012 19:00       0.1                -2.7           81   \n",
       "8780  12/31/2012 20:00       0.2                -2.4           83   \n",
       "8781  12/31/2012 21:00      -0.5                -1.5           93   \n",
       "8782  12/31/2012 22:00      -0.2                -1.8           89   \n",
       "8783  12/31/2012 23:00       0.0                -2.1           86   \n",
       "\n",
       "      Wind Spd (km/h)  Visibility (km)  Stn Press (kPa) Weather  \n",
       "8779               30              9.7           100.13    Snow  \n",
       "8780               24              9.7           100.03    Snow  \n",
       "8781               28              4.8            99.95    Snow  \n",
       "8782               28              9.7            99.91    Snow  \n",
       "8783               30             11.3            99.89    Snow  "
      ]
     },
     "execution_count": 4,
     "metadata": {},
     "output_type": "execute_result"
    }
   ],
   "source": [
    "df.tail()"
   ]
  },
  {
   "cell_type": "code",
   "execution_count": 5,
   "metadata": {},
   "outputs": [
    {
     "data": {
      "text/html": [
       "<div>\n",
       "<style scoped>\n",
       "    .dataframe tbody tr th:only-of-type {\n",
       "        vertical-align: middle;\n",
       "    }\n",
       "\n",
       "    .dataframe tbody tr th {\n",
       "        vertical-align: top;\n",
       "    }\n",
       "\n",
       "    .dataframe thead th {\n",
       "        text-align: right;\n",
       "    }\n",
       "</style>\n",
       "<table border=\"1\" class=\"dataframe\">\n",
       "  <thead>\n",
       "    <tr style=\"text-align: right;\">\n",
       "      <th></th>\n",
       "      <th>Date/Time</th>\n",
       "      <th>Temp (C)</th>\n",
       "      <th>Dew Point Temp (C)</th>\n",
       "      <th>Rel Hum (%)</th>\n",
       "      <th>Wind Spd (km/h)</th>\n",
       "      <th>Visibility (km)</th>\n",
       "      <th>Stn Press (kPa)</th>\n",
       "      <th>Weather</th>\n",
       "    </tr>\n",
       "  </thead>\n",
       "  <tbody>\n",
       "    <tr>\n",
       "      <th>821</th>\n",
       "      <td>2/4/2012 5:00</td>\n",
       "      <td>-8.1</td>\n",
       "      <td>-13.3</td>\n",
       "      <td>66</td>\n",
       "      <td>15</td>\n",
       "      <td>25.0</td>\n",
       "      <td>102.21</td>\n",
       "      <td>Mainly Clear</td>\n",
       "    </tr>\n",
       "    <tr>\n",
       "      <th>807</th>\n",
       "      <td>2/3/2012 15:00</td>\n",
       "      <td>-2.9</td>\n",
       "      <td>-7.8</td>\n",
       "      <td>69</td>\n",
       "      <td>19</td>\n",
       "      <td>19.3</td>\n",
       "      <td>102.25</td>\n",
       "      <td>Snow</td>\n",
       "    </tr>\n",
       "    <tr>\n",
       "      <th>149</th>\n",
       "      <td>1/7/2012 5:00</td>\n",
       "      <td>-6.9</td>\n",
       "      <td>-9.7</td>\n",
       "      <td>80</td>\n",
       "      <td>4</td>\n",
       "      <td>19.3</td>\n",
       "      <td>100.12</td>\n",
       "      <td>Cloudy</td>\n",
       "    </tr>\n",
       "    <tr>\n",
       "      <th>7510</th>\n",
       "      <td>11/8/2012 22:00</td>\n",
       "      <td>-0.3</td>\n",
       "      <td>-4.8</td>\n",
       "      <td>72</td>\n",
       "      <td>11</td>\n",
       "      <td>25.0</td>\n",
       "      <td>101.21</td>\n",
       "      <td>Mainly Clear</td>\n",
       "    </tr>\n",
       "    <tr>\n",
       "      <th>5203</th>\n",
       "      <td>8/4/2012 19:00</td>\n",
       "      <td>30.8</td>\n",
       "      <td>19.2</td>\n",
       "      <td>50</td>\n",
       "      <td>20</td>\n",
       "      <td>24.1</td>\n",
       "      <td>101.23</td>\n",
       "      <td>Mainly Clear</td>\n",
       "    </tr>\n",
       "  </tbody>\n",
       "</table>\n",
       "</div>"
      ],
      "text/plain": [
       "            Date/Time  Temp (C)  Dew Point Temp (C)  Rel Hum (%)  \\\n",
       "821     2/4/2012 5:00      -8.1               -13.3           66   \n",
       "807    2/3/2012 15:00      -2.9                -7.8           69   \n",
       "149     1/7/2012 5:00      -6.9                -9.7           80   \n",
       "7510  11/8/2012 22:00      -0.3                -4.8           72   \n",
       "5203   8/4/2012 19:00      30.8                19.2           50   \n",
       "\n",
       "      Wind Spd (km/h)  Visibility (km)  Stn Press (kPa)       Weather  \n",
       "821                15             25.0           102.21  Mainly Clear  \n",
       "807                19             19.3           102.25          Snow  \n",
       "149                 4             19.3           100.12        Cloudy  \n",
       "7510               11             25.0           101.21  Mainly Clear  \n",
       "5203               20             24.1           101.23  Mainly Clear  "
      ]
     },
     "execution_count": 5,
     "metadata": {},
     "output_type": "execute_result"
    }
   ],
   "source": [
    "df.sample(5)"
   ]
  },
  {
   "cell_type": "markdown",
   "metadata": {},
   "source": [
    "**3.)** To display a list of all of the column names:"
   ]
  },
  {
   "cell_type": "code",
   "execution_count": 6,
   "metadata": {},
   "outputs": [
    {
     "data": {
      "text/plain": [
       "Index(['Date/Time', 'Temp (C)', 'Dew Point Temp (C)', 'Rel Hum (%)',\n",
       "       'Wind Spd (km/h)', 'Visibility (km)', 'Stn Press (kPa)', 'Weather'],\n",
       "      dtype='object')"
      ]
     },
     "execution_count": 6,
     "metadata": {},
     "output_type": "execute_result"
    }
   ],
   "source": [
    "df.columns"
   ]
  },
  {
   "cell_type": "markdown",
   "metadata": {},
   "source": [
    "**4.)** Renaming all of the column names. Also, saving the original column names into a list for later use."
   ]
  },
  {
   "cell_type": "code",
   "execution_count": 7,
   "metadata": {},
   "outputs": [],
   "source": [
    "df.columns = ['date_time', \n",
    "             'temp_c',\n",
    "             'dew_point',\n",
    "             'relative_humidity',\n",
    "             'wind_speed',\n",
    "             'visibility',\n",
    "             'pressure',\n",
    "             'weather']"
   ]
  },
  {
   "cell_type": "code",
   "execution_count": 8,
   "metadata": {},
   "outputs": [],
   "source": [
    "original_columns = ['Date/Time', \n",
    "                    'Temp (C)', \n",
    "                    'Dew Point Temp (C)', \n",
    "                    'Rel Hum (%)',\n",
    "                    'Wind Spd (km/h)', \n",
    "                    'Visibility (km)', \n",
    "                    'Stn Press (kPa)', \n",
    "                    'Weather']"
   ]
  },
  {
   "cell_type": "markdown",
   "metadata": {},
   "source": [
    "**5.)** Using the describe function to get some standard statistics for each column"
   ]
  },
  {
   "cell_type": "code",
   "execution_count": 9,
   "metadata": {},
   "outputs": [
    {
     "data": {
      "text/html": [
       "<div>\n",
       "<style scoped>\n",
       "    .dataframe tbody tr th:only-of-type {\n",
       "        vertical-align: middle;\n",
       "    }\n",
       "\n",
       "    .dataframe tbody tr th {\n",
       "        vertical-align: top;\n",
       "    }\n",
       "\n",
       "    .dataframe thead th {\n",
       "        text-align: right;\n",
       "    }\n",
       "</style>\n",
       "<table border=\"1\" class=\"dataframe\">\n",
       "  <thead>\n",
       "    <tr style=\"text-align: right;\">\n",
       "      <th></th>\n",
       "      <th>temp_c</th>\n",
       "      <th>dew_point</th>\n",
       "      <th>relative_humidity</th>\n",
       "      <th>wind_speed</th>\n",
       "      <th>visibility</th>\n",
       "      <th>pressure</th>\n",
       "    </tr>\n",
       "  </thead>\n",
       "  <tbody>\n",
       "    <tr>\n",
       "      <th>count</th>\n",
       "      <td>8784.000000</td>\n",
       "      <td>8784.000000</td>\n",
       "      <td>8784.000000</td>\n",
       "      <td>8784.000000</td>\n",
       "      <td>8784.000000</td>\n",
       "      <td>8784.000000</td>\n",
       "    </tr>\n",
       "    <tr>\n",
       "      <th>mean</th>\n",
       "      <td>8.798144</td>\n",
       "      <td>2.555294</td>\n",
       "      <td>67.431694</td>\n",
       "      <td>14.945469</td>\n",
       "      <td>27.664447</td>\n",
       "      <td>101.051623</td>\n",
       "    </tr>\n",
       "    <tr>\n",
       "      <th>std</th>\n",
       "      <td>11.687883</td>\n",
       "      <td>10.883072</td>\n",
       "      <td>16.918881</td>\n",
       "      <td>8.688696</td>\n",
       "      <td>12.622688</td>\n",
       "      <td>0.844005</td>\n",
       "    </tr>\n",
       "    <tr>\n",
       "      <th>min</th>\n",
       "      <td>-23.300000</td>\n",
       "      <td>-28.500000</td>\n",
       "      <td>18.000000</td>\n",
       "      <td>0.000000</td>\n",
       "      <td>0.200000</td>\n",
       "      <td>97.520000</td>\n",
       "    </tr>\n",
       "    <tr>\n",
       "      <th>25%</th>\n",
       "      <td>0.100000</td>\n",
       "      <td>-5.900000</td>\n",
       "      <td>56.000000</td>\n",
       "      <td>9.000000</td>\n",
       "      <td>24.100000</td>\n",
       "      <td>100.560000</td>\n",
       "    </tr>\n",
       "    <tr>\n",
       "      <th>50%</th>\n",
       "      <td>9.300000</td>\n",
       "      <td>3.300000</td>\n",
       "      <td>68.000000</td>\n",
       "      <td>13.000000</td>\n",
       "      <td>25.000000</td>\n",
       "      <td>101.070000</td>\n",
       "    </tr>\n",
       "    <tr>\n",
       "      <th>75%</th>\n",
       "      <td>18.800000</td>\n",
       "      <td>11.800000</td>\n",
       "      <td>81.000000</td>\n",
       "      <td>20.000000</td>\n",
       "      <td>25.000000</td>\n",
       "      <td>101.590000</td>\n",
       "    </tr>\n",
       "    <tr>\n",
       "      <th>max</th>\n",
       "      <td>33.000000</td>\n",
       "      <td>24.400000</td>\n",
       "      <td>100.000000</td>\n",
       "      <td>83.000000</td>\n",
       "      <td>48.300000</td>\n",
       "      <td>103.650000</td>\n",
       "    </tr>\n",
       "  </tbody>\n",
       "</table>\n",
       "</div>"
      ],
      "text/plain": [
       "            temp_c    dew_point  relative_humidity   wind_speed   visibility  \\\n",
       "count  8784.000000  8784.000000        8784.000000  8784.000000  8784.000000   \n",
       "mean      8.798144     2.555294          67.431694    14.945469    27.664447   \n",
       "std      11.687883    10.883072          16.918881     8.688696    12.622688   \n",
       "min     -23.300000   -28.500000          18.000000     0.000000     0.200000   \n",
       "25%       0.100000    -5.900000          56.000000     9.000000    24.100000   \n",
       "50%       9.300000     3.300000          68.000000    13.000000    25.000000   \n",
       "75%      18.800000    11.800000          81.000000    20.000000    25.000000   \n",
       "max      33.000000    24.400000         100.000000    83.000000    48.300000   \n",
       "\n",
       "          pressure  \n",
       "count  8784.000000  \n",
       "mean    101.051623  \n",
       "std       0.844005  \n",
       "min      97.520000  \n",
       "25%     100.560000  \n",
       "50%     101.070000  \n",
       "75%     101.590000  \n",
       "max     103.650000  "
      ]
     },
     "execution_count": 9,
     "metadata": {},
     "output_type": "execute_result"
    }
   ],
   "source": [
    "df.describe()"
   ]
  },
  {
   "cell_type": "markdown",
   "metadata": {},
   "source": [
    "**6.)** Using a for loop, the conversion of the temp_c values to farenheit is saved to a new list temp_f, which is made into a new column in the dataframe."
   ]
  },
  {
   "cell_type": "code",
   "execution_count": 10,
   "metadata": {},
   "outputs": [],
   "source": [
    "temp_fx = []\n",
    "for i in df['temp_c']:\n",
    "    newtemp = (i*(9/5))+32\n",
    "    temp_fx.append(newtemp)"
   ]
  },
  {
   "cell_type": "code",
   "execution_count": 11,
   "metadata": {},
   "outputs": [],
   "source": [
    "df['temp_f'] = temp_fx"
   ]
  },
  {
   "cell_type": "markdown",
   "metadata": {},
   "source": [
    "**7.)** Rearranging the order of the columns by making a list of the column names in the desired order and setting it equal to the dataframe."
   ]
  },
  {
   "cell_type": "code",
   "execution_count": 12,
   "metadata": {},
   "outputs": [
    {
     "data": {
      "text/plain": [
       "Index(['date_time', 'temp_c', 'dew_point', 'relative_humidity', 'wind_speed',\n",
       "       'visibility', 'pressure', 'weather', 'temp_f'],\n",
       "      dtype='object')"
      ]
     },
     "execution_count": 12,
     "metadata": {},
     "output_type": "execute_result"
    }
   ],
   "source": [
    "df.columns"
   ]
  },
  {
   "cell_type": "code",
   "execution_count": 13,
   "metadata": {},
   "outputs": [],
   "source": [
    "new_order = ['date_time',\n",
    "             'temp_f', \n",
    "             'temp_c', \n",
    "             'dew_point', \n",
    "             'relative_humidity', \n",
    "             'wind_speed',\n",
    "            'visibility',\n",
    "             'pressure', \n",
    "             'weather', ]"
   ]
  },
  {
   "cell_type": "code",
   "execution_count": 14,
   "metadata": {},
   "outputs": [],
   "source": [
    "df = df[new_order]"
   ]
  },
  {
   "cell_type": "code",
   "execution_count": 15,
   "metadata": {},
   "outputs": [
    {
     "data": {
      "text/plain": [
       "Index(['date_time', 'temp_f', 'temp_c', 'dew_point', 'relative_humidity',\n",
       "       'wind_speed', 'visibility', 'pressure', 'weather'],\n",
       "      dtype='object')"
      ]
     },
     "execution_count": 15,
     "metadata": {},
     "output_type": "execute_result"
    }
   ],
   "source": [
    "df.columns"
   ]
  },
  {
   "cell_type": "markdown",
   "metadata": {},
   "source": [
    "**8.)** To display the data types of all the columns in the dataset:"
   ]
  },
  {
   "cell_type": "code",
   "execution_count": 16,
   "metadata": {},
   "outputs": [
    {
     "data": {
      "text/plain": [
       "date_time             object\n",
       "temp_f               float64\n",
       "temp_c               float64\n",
       "dew_point            float64\n",
       "relative_humidity      int64\n",
       "wind_speed             int64\n",
       "visibility           float64\n",
       "pressure             float64\n",
       "weather               object\n",
       "dtype: object"
      ]
     },
     "execution_count": 16,
     "metadata": {},
     "output_type": "execute_result"
    }
   ],
   "source": [
    "df.dtypes"
   ]
  },
  {
   "cell_type": "markdown",
   "metadata": {},
   "source": [
    "**9.)** To convert date_time into a datetime value:"
   ]
  },
  {
   "cell_type": "code",
   "execution_count": 17,
   "metadata": {},
   "outputs": [],
   "source": [
    "df.date_time = pd.to_datetime(df.date_time)"
   ]
  },
  {
   "cell_type": "code",
   "execution_count": 18,
   "metadata": {
    "scrolled": true
   },
   "outputs": [
    {
     "data": {
      "text/plain": [
       "date_time            datetime64[ns]\n",
       "temp_f                      float64\n",
       "temp_c                      float64\n",
       "dew_point                   float64\n",
       "relative_humidity             int64\n",
       "wind_speed                    int64\n",
       "visibility                  float64\n",
       "pressure                    float64\n",
       "weather                      object\n",
       "dtype: object"
      ]
     },
     "execution_count": 18,
     "metadata": {},
     "output_type": "execute_result"
    }
   ],
   "source": [
    "df.dtypes"
   ]
  },
  {
   "cell_type": "markdown",
   "metadata": {},
   "source": [
    "**10-14.)** Creating a new dataframe with the average temperature for each month. I did so by first creating a dictionary with the datetime timestamps as the keys and their corresponding months, temperatures, and month names as the values. Then, I created an empty dataframe monthly_avg and added each month name and average temperature value to the dataframe.  \n",
    "  \n",
    "By making the dictionary, I was also able to add the month column and make it show the name of the month instead of the number in this one step. "
   ]
  },
  {
   "cell_type": "code",
   "execution_count": 19,
   "metadata": {},
   "outputs": [],
   "source": [
    "date_temp = {}\n",
    "for i, k in zip(df.date_time, df.temp_f):\n",
    "    date_temp[i] = [i.strftime(\"%m\"), k, i.strftime(\"%B\")]"
   ]
  },
  {
   "cell_type": "code",
   "execution_count": 76,
   "metadata": {},
   "outputs": [
    {
     "data": {
      "text/html": [
       "<div>\n",
       "<style scoped>\n",
       "    .dataframe tbody tr th:only-of-type {\n",
       "        vertical-align: middle;\n",
       "    }\n",
       "\n",
       "    .dataframe tbody tr th {\n",
       "        vertical-align: top;\n",
       "    }\n",
       "\n",
       "    .dataframe thead th {\n",
       "        text-align: right;\n",
       "    }\n",
       "</style>\n",
       "<table border=\"1\" class=\"dataframe\">\n",
       "  <thead>\n",
       "    <tr style=\"text-align: right;\">\n",
       "      <th></th>\n",
       "      <th>Month</th>\n",
       "      <th>Average Temperature</th>\n",
       "    </tr>\n",
       "  </thead>\n",
       "  <tbody>\n",
       "    <tr>\n",
       "      <th>0</th>\n",
       "      <td>January</td>\n",
       "      <td>18.731290</td>\n",
       "    </tr>\n",
       "    <tr>\n",
       "      <th>1</th>\n",
       "      <td>February</td>\n",
       "      <td>24.395000</td>\n",
       "    </tr>\n",
       "    <tr>\n",
       "      <th>2</th>\n",
       "      <td>March</td>\n",
       "      <td>37.618226</td>\n",
       "    </tr>\n",
       "    <tr>\n",
       "      <th>3</th>\n",
       "      <td>April</td>\n",
       "      <td>44.616750</td>\n",
       "    </tr>\n",
       "    <tr>\n",
       "      <th>4</th>\n",
       "      <td>May</td>\n",
       "      <td>61.227984</td>\n",
       "    </tr>\n",
       "    <tr>\n",
       "      <th>5</th>\n",
       "      <td>June</td>\n",
       "      <td>68.241250</td>\n",
       "    </tr>\n",
       "    <tr>\n",
       "      <th>6</th>\n",
       "      <td>July</td>\n",
       "      <td>73.022097</td>\n",
       "    </tr>\n",
       "    <tr>\n",
       "      <th>7</th>\n",
       "      <td>August</td>\n",
       "      <td>72.102742</td>\n",
       "    </tr>\n",
       "    <tr>\n",
       "      <th>8</th>\n",
       "      <td>September</td>\n",
       "      <td>61.672000</td>\n",
       "    </tr>\n",
       "    <tr>\n",
       "      <th>9</th>\n",
       "      <td>October</td>\n",
       "      <td>51.718952</td>\n",
       "    </tr>\n",
       "    <tr>\n",
       "      <th>10</th>\n",
       "      <td>November</td>\n",
       "      <td>33.676500</td>\n",
       "    </tr>\n",
       "    <tr>\n",
       "      <th>11</th>\n",
       "      <td>December</td>\n",
       "      <td>26.048629</td>\n",
       "    </tr>\n",
       "  </tbody>\n",
       "</table>\n",
       "</div>"
      ],
      "text/plain": [
       "        Month  Average Temperature\n",
       "0     January            18.731290\n",
       "1    February            24.395000\n",
       "2       March            37.618226\n",
       "3       April            44.616750\n",
       "4         May            61.227984\n",
       "5        June            68.241250\n",
       "6        July            73.022097\n",
       "7      August            72.102742\n",
       "8   September            61.672000\n",
       "9     October            51.718952\n",
       "10   November            33.676500\n",
       "11   December            26.048629"
      ]
     },
     "execution_count": 76,
     "metadata": {},
     "output_type": "execute_result"
    }
   ],
   "source": [
    "monthly_avg = pd.DataFrame(columns=['Month', 'Average Temperature'])\n",
    "\n",
    "months = sorted(list(set([x[0] for x in date_temp.values()])))\n",
    "for i in months:\n",
    "    total = 0\n",
    "    count = 0\n",
    "    for j in date_temp:\n",
    "        if date_temp[j][0]==i:\n",
    "            total = total + date_temp[j][1]\n",
    "            count = count + 1\n",
    "            if count==1:\n",
    "                month = date_temp[j][2]\n",
    "    newdata = pd.Series(data=[month, total/count], index=monthly_avg.columns)\n",
    "    monthly_avg = monthly_avg.append(newdata, ignore_index=True)\n",
    "\n",
    "monthly_avg.head(12)"
   ]
  },
  {
   "cell_type": "markdown",
   "metadata": {},
   "source": [
    "**15-17.)** Creating a new dataframe with the average temperature for each hour. I did this similar to how I did the monthly averages: by making a dictionary, creating an empty dataframe, and adding the average temperature to the dataframe. \n",
    "\n",
    "I also added the standard time to the index in this step. "
   ]
  },
  {
   "cell_type": "code",
   "execution_count": 63,
   "metadata": {},
   "outputs": [],
   "source": [
    "time_temp = {}\n",
    "for i, k in zip(df.date_time, df.temp_f):\n",
    "    time_temp[i] = [i.strftime(\"%H\"), k, i.strftime(\"%I\"+\":00 \"+\"%p\")]"
   ]
  },
  {
   "cell_type": "code",
   "execution_count": 86,
   "metadata": {},
   "outputs": [
    {
     "data": {
      "text/html": [
       "<div>\n",
       "<style scoped>\n",
       "    .dataframe tbody tr th:only-of-type {\n",
       "        vertical-align: middle;\n",
       "    }\n",
       "\n",
       "    .dataframe tbody tr th {\n",
       "        vertical-align: top;\n",
       "    }\n",
       "\n",
       "    .dataframe thead th {\n",
       "        text-align: right;\n",
       "    }\n",
       "</style>\n",
       "<table border=\"1\" class=\"dataframe\">\n",
       "  <thead>\n",
       "    <tr style=\"text-align: right;\">\n",
       "      <th></th>\n",
       "      <th>Average Temperature</th>\n",
       "    </tr>\n",
       "    <tr>\n",
       "      <th>Hour</th>\n",
       "      <th></th>\n",
       "    </tr>\n",
       "  </thead>\n",
       "  <tbody>\n",
       "    <tr>\n",
       "      <th>12:00 AM</th>\n",
       "      <td>45.623443</td>\n",
       "    </tr>\n",
       "    <tr>\n",
       "      <th>01:00 AM</th>\n",
       "      <td>44.762787</td>\n",
       "    </tr>\n",
       "    <tr>\n",
       "      <th>02:00 AM</th>\n",
       "      <td>43.980820</td>\n",
       "    </tr>\n",
       "    <tr>\n",
       "      <th>03:00 AM</th>\n",
       "      <td>43.325246</td>\n",
       "    </tr>\n",
       "    <tr>\n",
       "      <th>04:00 AM</th>\n",
       "      <td>42.744426</td>\n",
       "    </tr>\n",
       "    <tr>\n",
       "      <th>05:00 AM</th>\n",
       "      <td>42.291967</td>\n",
       "    </tr>\n",
       "    <tr>\n",
       "      <th>06:00 AM</th>\n",
       "      <td>42.859508</td>\n",
       "    </tr>\n",
       "    <tr>\n",
       "      <th>07:00 AM</th>\n",
       "      <td>43.831311</td>\n",
       "    </tr>\n",
       "    <tr>\n",
       "      <th>08:00 AM</th>\n",
       "      <td>45.280656</td>\n",
       "    </tr>\n",
       "    <tr>\n",
       "      <th>09:00 AM</th>\n",
       "      <td>46.987213</td>\n",
       "    </tr>\n",
       "    <tr>\n",
       "      <th>10:00 AM</th>\n",
       "      <td>48.699672</td>\n",
       "    </tr>\n",
       "    <tr>\n",
       "      <th>11:00 AM</th>\n",
       "      <td>50.193770</td>\n",
       "    </tr>\n",
       "    <tr>\n",
       "      <th>12:00 PM</th>\n",
       "      <td>51.541803</td>\n",
       "    </tr>\n",
       "    <tr>\n",
       "      <th>01:00 PM</th>\n",
       "      <td>52.508689</td>\n",
       "    </tr>\n",
       "    <tr>\n",
       "      <th>02:00 PM</th>\n",
       "      <td>53.196721</td>\n",
       "    </tr>\n",
       "    <tr>\n",
       "      <th>03:00 PM</th>\n",
       "      <td>53.391475</td>\n",
       "    </tr>\n",
       "    <tr>\n",
       "      <th>04:00 PM</th>\n",
       "      <td>53.178033</td>\n",
       "    </tr>\n",
       "    <tr>\n",
       "      <th>05:00 PM</th>\n",
       "      <td>52.297705</td>\n",
       "    </tr>\n",
       "    <tr>\n",
       "      <th>06:00 PM</th>\n",
       "      <td>51.181311</td>\n",
       "    </tr>\n",
       "    <tr>\n",
       "      <th>07:00 PM</th>\n",
       "      <td>50.041311</td>\n",
       "    </tr>\n",
       "    <tr>\n",
       "      <th>08:00 PM</th>\n",
       "      <td>48.848197</td>\n",
       "    </tr>\n",
       "    <tr>\n",
       "      <th>09:00 PM</th>\n",
       "      <td>47.851803</td>\n",
       "    </tr>\n",
       "    <tr>\n",
       "      <th>10:00 PM</th>\n",
       "      <td>47.064918</td>\n",
       "    </tr>\n",
       "    <tr>\n",
       "      <th>11:00 PM</th>\n",
       "      <td>46.397049</td>\n",
       "    </tr>\n",
       "  </tbody>\n",
       "</table>\n",
       "</div>"
      ],
      "text/plain": [
       "          Average Temperature\n",
       "Hour                         \n",
       "12:00 AM            45.623443\n",
       "01:00 AM            44.762787\n",
       "02:00 AM            43.980820\n",
       "03:00 AM            43.325246\n",
       "04:00 AM            42.744426\n",
       "05:00 AM            42.291967\n",
       "06:00 AM            42.859508\n",
       "07:00 AM            43.831311\n",
       "08:00 AM            45.280656\n",
       "09:00 AM            46.987213\n",
       "10:00 AM            48.699672\n",
       "11:00 AM            50.193770\n",
       "12:00 PM            51.541803\n",
       "01:00 PM            52.508689\n",
       "02:00 PM            53.196721\n",
       "03:00 PM            53.391475\n",
       "04:00 PM            53.178033\n",
       "05:00 PM            52.297705\n",
       "06:00 PM            51.181311\n",
       "07:00 PM            50.041311\n",
       "08:00 PM            48.848197\n",
       "09:00 PM            47.851803\n",
       "10:00 PM            47.064918\n",
       "11:00 PM            46.397049"
      ]
     },
     "execution_count": 86,
     "metadata": {},
     "output_type": "execute_result"
    }
   ],
   "source": [
    "hourly_avg = pd.DataFrame(columns=['Average Temperature'])\n",
    "hourly_avg.index.name = 'Hour'\n",
    "\n",
    "hours = sorted(list(set([x[0] for x in time_temp.values()])))\n",
    "for i in hours:\n",
    "    total = 0\n",
    "    count = 0\n",
    "    for j in time_temp:\n",
    "        if time_temp[j][0]==i:\n",
    "            total = total + time_temp[j][1]\n",
    "            count = count + 1\n",
    "            if count==1:\n",
    "                hour = time_temp[j][2]\n",
    "    newdata = pd.Series(data=[total/count], index=hourly_avg.columns, name=hour)\n",
    "    hourly_avg = hourly_avg.append(newdata)\n",
    "    \n",
    "    \n",
    "hourly_avg.head(24)"
   ]
  },
  {
   "cell_type": "markdown",
   "metadata": {},
   "source": [
    "**18.)** Getting a count of the different weather designations in the weather column using groupby and count:"
   ]
  },
  {
   "cell_type": "code",
   "execution_count": 93,
   "metadata": {},
   "outputs": [
    {
     "data": {
      "text/plain": [
       "weather\n",
       "Clear                                      1326\n",
       "Cloudy                                     1728\n",
       "Drizzle                                      41\n",
       "Drizzle,Fog                                  80\n",
       "Drizzle,Ice Pellets,Fog                       1\n",
       "Drizzle,Snow                                  2\n",
       "Drizzle,Snow,Fog                             15\n",
       "Fog                                         150\n",
       "Freezing Drizzle                              7\n",
       "Freezing Drizzle,Fog                          6\n",
       "Freezing Drizzle,Haze                         3\n",
       "Freezing Drizzle,Snow                        11\n",
       "Freezing Fog                                  4\n",
       "Freezing Rain                                14\n",
       "Freezing Rain,Fog                             4\n",
       "Freezing Rain,Haze                            2\n",
       "Freezing Rain,Ice Pellets,Fog                 1\n",
       "Freezing Rain,Snow Grains                     1\n",
       "Haze                                         16\n",
       "Mainly Clear                               2106\n",
       "Moderate Rain,Fog                             1\n",
       "Moderate Snow                                 4\n",
       "Moderate Snow,Blowing Snow                    2\n",
       "Mostly Cloudy                              2069\n",
       "Rain                                        306\n",
       "Rain Showers                                188\n",
       "Rain Showers,Fog                              1\n",
       "Rain Showers,Snow Showers                     2\n",
       "Rain,Fog                                    116\n",
       "Rain,Haze                                     3\n",
       "Rain,Ice Pellets                              1\n",
       "Rain,Snow                                    18\n",
       "Rain,Snow Grains                              1\n",
       "Rain,Snow,Fog                                 1\n",
       "Rain,Snow,Ice Pellets                         4\n",
       "Snow                                        390\n",
       "Snow Pellets                                  1\n",
       "Snow Showers                                 60\n",
       "Snow Showers,Fog                              4\n",
       "Snow,Blowing Snow                            19\n",
       "Snow,Fog                                     37\n",
       "Snow,Haze                                     5\n",
       "Snow,Ice Pellets                              6\n",
       "Thunderstorms                                 2\n",
       "Thunderstorms,Heavy Rain Showers              1\n",
       "Thunderstorms,Moderate Rain Showers,Fog       1\n",
       "Thunderstorms,Rain                            3\n",
       "Thunderstorms,Rain Showers                   16\n",
       "Thunderstorms,Rain Showers,Fog                3\n",
       "Thunderstorms,Rain,Fog                        1\n",
       "Name: weather, dtype: int64"
      ]
     },
     "execution_count": 93,
     "metadata": {},
     "output_type": "execute_result"
    }
   ],
   "source": [
    "df.weather.groupby(df.weather).count()"
   ]
  },
  {
   "cell_type": "markdown",
   "metadata": {},
   "source": [
    "**19.)** Getting a list that contains each unique value in the weather column by creating an empty set, separating all the values from the weather columns, and adding them to the empty set. Then, I converted the set to a list. "
   ]
  },
  {
   "cell_type": "code",
   "execution_count": 108,
   "metadata": {},
   "outputs": [],
   "source": [
    "weathers = set()\n",
    "for i in df.weather:\n",
    "    new = i.split(',')\n",
    "    for k in new:\n",
    "        weathers.add(k)\n",
    "weathers = list(weathers)"
   ]
  },
  {
   "cell_type": "code",
   "execution_count": 109,
   "metadata": {},
   "outputs": [
    {
     "data": {
      "text/plain": [
       "['Snow',\n",
       " 'Cloudy',\n",
       " 'Snow Showers',\n",
       " 'Heavy Rain Showers',\n",
       " 'Haze',\n",
       " 'Freezing Rain',\n",
       " 'Freezing Fog',\n",
       " 'Mostly Cloudy',\n",
       " 'Mainly Clear',\n",
       " 'Snow Pellets',\n",
       " 'Rain',\n",
       " 'Moderate Rain',\n",
       " 'Blowing Snow',\n",
       " 'Moderate Snow',\n",
       " 'Clear',\n",
       " 'Snow Grains',\n",
       " 'Moderate Rain Showers',\n",
       " 'Ice Pellets',\n",
       " 'Drizzle',\n",
       " 'Fog',\n",
       " 'Rain Showers',\n",
       " 'Thunderstorms',\n",
       " 'Freezing Drizzle']"
      ]
     },
     "execution_count": 109,
     "metadata": {},
     "output_type": "execute_result"
    }
   ],
   "source": [
    "weathers"
   ]
  },
  {
   "cell_type": "markdown",
   "metadata": {},
   "source": [
    "**20.)** Sorting the list of unique weather values alphabetically using the sorted() function:"
   ]
  },
  {
   "cell_type": "code",
   "execution_count": 118,
   "metadata": {},
   "outputs": [
    {
     "data": {
      "text/plain": [
       "['Blowing Snow',\n",
       " 'Clear',\n",
       " 'Cloudy',\n",
       " 'Drizzle',\n",
       " 'Fog',\n",
       " 'Freezing Drizzle',\n",
       " 'Freezing Fog',\n",
       " 'Freezing Rain',\n",
       " 'Haze',\n",
       " 'Heavy Rain Showers',\n",
       " 'Ice Pellets',\n",
       " 'Mainly Clear',\n",
       " 'Moderate Rain',\n",
       " 'Moderate Rain Showers',\n",
       " 'Moderate Snow',\n",
       " 'Mostly Cloudy',\n",
       " 'Rain',\n",
       " 'Rain Showers',\n",
       " 'Snow',\n",
       " 'Snow Grains',\n",
       " 'Snow Pellets',\n",
       " 'Snow Showers',\n",
       " 'Thunderstorms']"
      ]
     },
     "execution_count": 118,
     "metadata": {},
     "output_type": "execute_result"
    }
   ],
   "source": [
    "sorted(weathers)"
   ]
  },
  {
   "cell_type": "markdown",
   "metadata": {},
   "source": [
    "**21.)** Renaming the columns with their original names, plus renaming the new column temp_f to Temp (F)."
   ]
  },
  {
   "cell_type": "code",
   "execution_count": 114,
   "metadata": {},
   "outputs": [],
   "source": [
    "df.columns = ['Date/Time', \n",
    "                    'Temp (F)',\n",
    "                    'Temp (C)', \n",
    "                    'Dew Point Temp (C)', \n",
    "                    'Rel Hum (%)',\n",
    "                    'Wind Spd (km/h)', \n",
    "                    'Visibility (km)', \n",
    "                    'Stn Press (kPa)', \n",
    "                    'Weather']"
   ]
  },
  {
   "cell_type": "code",
   "execution_count": 115,
   "metadata": {},
   "outputs": [
    {
     "data": {
      "text/plain": [
       "Index(['Date/Time', 'Temp (F)', 'Temp (C)', 'Dew Point Temp (C)',\n",
       "       'Rel Hum (%)', 'Wind Spd (km/h)', 'Visibility (km)', 'Stn Press (kPa)',\n",
       "       'Weather'],\n",
       "      dtype='object')"
      ]
     },
     "execution_count": 115,
     "metadata": {},
     "output_type": "execute_result"
    }
   ],
   "source": [
    "df.columns"
   ]
  },
  {
   "cell_type": "markdown",
   "metadata": {},
   "source": [
    "**22.)** To save the dataset to a new file (not containing the index column):"
   ]
  },
  {
   "cell_type": "code",
   "execution_count": 116,
   "metadata": {},
   "outputs": [],
   "source": [
    "df.to_csv('weather_2012_new.csv', index=False)"
   ]
  },
  {
   "cell_type": "markdown",
   "metadata": {},
   "source": [
    "**23.)** To save the monthly_avg and hourly_avg datasets to new files for future use:"
   ]
  },
  {
   "cell_type": "code",
   "execution_count": 117,
   "metadata": {},
   "outputs": [],
   "source": [
    "monthly_avg.to_csv('monthly_avg.csv')\n",
    "hourly_avg.to_csv('hourly_avg.csv')"
   ]
  }
 ],
 "metadata": {
  "kernelspec": {
   "display_name": "Python 3",
   "language": "python",
   "name": "python3"
  },
  "language_info": {
   "codemirror_mode": {
    "name": "ipython",
    "version": 3
   },
   "file_extension": ".py",
   "mimetype": "text/x-python",
   "name": "python",
   "nbconvert_exporter": "python",
   "pygments_lexer": "ipython3",
   "version": "3.8.3"
  }
 },
 "nbformat": 4,
 "nbformat_minor": 4
}
